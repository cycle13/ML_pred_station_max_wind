{
 "cells": [
  {
   "cell_type": "code",
   "execution_count": null,
   "metadata": {},
   "outputs": [],
   "source": [
    "# 支持向量回归"
   ]
  },
  {
   "cell_type": "code",
   "execution_count": null,
   "metadata": {},
   "outputs": [],
   "source": [
    "# datax"
   ]
  },
  {
   "cell_type": "code",
   "execution_count": 59,
   "metadata": {},
   "outputs": [
    {
     "name": "stdout",
     "output_type": "stream",
     "text": [
      "(48, 81)\n",
      "8.390442\n"
     ]
    }
   ],
   "source": [
    "import pandas as pd\n",
    "import numpy as np\n",
    "\n",
    "df = pd.read_csv('data/data.csv',delimiter=',',header=None)\n",
    "\n",
    "print(df.shape)\n",
    "print(df.iloc[0,0])\n",
    "\n",
    "data1 = df.iloc[:,0:8]\n",
    "data2 = df.iloc[:,9:17]\n",
    "data3 = df.iloc[:,18:26]\n",
    "data4 = df.iloc[:,27:35]\n",
    "data5 = df.iloc[:,36:44]\n",
    "data6 = df.iloc[:,45:53]\n",
    "data7 = df.iloc[:,54:62]\n",
    "data8 = df.iloc[:,63:71]\n",
    "data9 = df.iloc[:,72:80]\n",
    "\n",
    "data1.to_excel(\"data1.xls\")\n",
    "data2.to_excel(\"data2.xls\")\n",
    "data3.to_excel(\"data3.xls\")\n",
    "data4.to_excel(\"data4.xls\")\n",
    "data5.to_excel(\"data5.xls\")\n",
    "data6.to_excel(\"data6.xls\")\n",
    "data7.to_excel(\"data7.xls\")\n",
    "data8.to_excel(\"data8.xls\")\n",
    "data9.to_excel(\"data9.xls\")\n"
   ]
  },
  {
   "cell_type": "code",
   "execution_count": null,
   "metadata": {},
   "outputs": [],
   "source": [
    "#data y"
   ]
  },
  {
   "cell_type": "code",
   "execution_count": 96,
   "metadata": {},
   "outputs": [],
   "source": [
    "import pandas as pd\n",
    "import numpy as np\n",
    "df2 = pd.read_excel('data/data.xlsx',header=None)\n",
    "df2.shape\n",
    "\n",
    "y1 = df2.iloc[0::3,1]\n",
    "y2 = df2.iloc[0::3,2]\n",
    "y3 = df2.iloc[0::3,3]\n",
    "y4 = df2.iloc[0::3,4]\n",
    "y5 = df2.iloc[0::3,5]\n",
    "y6 = df2.iloc[0::3,6]\n",
    "y7 = df2.iloc[0::3,7]\n",
    "y8 = df2.iloc[0::3,8]\n",
    "y9 = df2.iloc[0::3,9]\n",
    "\n",
    "y1.to_excel(\"y1.xls\")\n",
    "y2.to_excel(\"y2.xls\")\n",
    "y3.to_excel(\"y3.xls\")\n",
    "y4.to_excel(\"y4.xls\")\n",
    "y5.to_excel(\"y5.xls\")\n",
    "y6.to_excel(\"y6.xls\")\n",
    "y7.to_excel(\"y7.xls\")\n",
    "y8.to_excel(\"y8.xls\")\n",
    "y9.to_excel(\"y9.xls\")\n"
   ]
  },
  {
   "cell_type": "code",
   "execution_count": 113,
   "metadata": {},
   "outputs": [
    {
     "name": "stdout",
     "output_type": "stream",
     "text": [
      "(432, 10) (432, 1)\n"
     ]
    }
   ],
   "source": [
    "import pandas as pd\n",
    "import numpy as np\n",
    "dx = pd.read_excel('data_in.xlsx')\n",
    "x = dx.iloc[0:,1:]\n",
    "dy = pd.read_excel('y.xls')\n",
    "y =dy.iloc[:,1:]\n",
    "print(x.shape,y.shape)"
   ]
  },
  {
   "cell_type": "code",
   "execution_count": null,
   "metadata": {},
   "outputs": [],
   "source": []
  },
  {
   "cell_type": "code",
   "execution_count": 125,
   "metadata": {},
   "outputs": [
    {
     "name": "stdout",
     "output_type": "stream",
     "text": [
      "0.8639859843902293\n"
     ]
    },
    {
     "name": "stderr",
     "output_type": "stream",
     "text": [
      "/home/liyuan3970/anaconda3/lib/python3.7/site-packages/sklearn/utils/validation.py:761: DataConversionWarning: A column-vector y was passed when a 1d array was expected. Please change the shape of y to (n_samples, ), for example using ravel().\n",
      "  y = column_or_1d(y, warn=True)\n",
      "/home/liyuan3970/anaconda3/lib/python3.7/site-packages/sklearn/svm/base.py:196: FutureWarning: The default value of gamma will change from 'auto' to 'scale' in version 0.22 to account better for unscaled features. Set gamma explicitly to 'auto' or 'scale' to avoid this warning.\n",
      "  \"avoid this warning.\", FutureWarning)\n"
     ]
    }
   ],
   "source": [
    "import numpy as np\n",
    "import sklearn.preprocessing as sp\n",
    "import sklearn.model_selection as ms\n",
    "import sklearn.svm as svm\n",
    "import sklearn.metrics as sm\n",
    "\n",
    "model = svm.SVR(kernel='rbf', C=50)\n",
    "model.fit(x, y)\n",
    "pred_test_y = model.predict(x)\n",
    "print(sm.r2_score(y, pred_test_y))\n"
   ]
  },
  {
   "cell_type": "code",
   "execution_count": 133,
   "metadata": {},
   "outputs": [
    {
     "name": "stdout",
     "output_type": "stream",
     "text": [
      "(324, 10)\n",
      "(324, 1)\n",
      "0.2901456045831281\n"
     ]
    },
    {
     "name": "stderr",
     "output_type": "stream",
     "text": [
      "/home/liyuan3970/anaconda3/lib/python3.7/site-packages/sklearn/utils/validation.py:761: DataConversionWarning: A column-vector y was passed when a 1d array was expected. Please change the shape of y to (n_samples, ), for example using ravel().\n",
      "  y = column_or_1d(y, warn=True)\n",
      "/home/liyuan3970/anaconda3/lib/python3.7/site-packages/sklearn/svm/base.py:196: FutureWarning: The default value of gamma will change from 'auto' to 'scale' in version 0.22 to account better for unscaled features. Set gamma explicitly to 'auto' or 'scale' to avoid this warning.\n",
      "  \"avoid this warning.\", FutureWarning)\n"
     ]
    }
   ],
   "source": [
    "# 拆分测试集 训练集 \n",
    "train_x, test_x, train_y, test_y = \\\n",
    "    ms.train_test_split(x, y, test_size=0.25, \n",
    "\trandom_state=7)\n",
    "print(train_x.shape)\n",
    "print(train_y.shape)\n",
    "# 创建模型, 模型训练\n",
    "model = svm.SVR(kernel='rbf', C=70)\n",
    "model.fit(train_x, train_y)\n",
    "pred_test_y = model.predict(test_x)\n",
    "print(sm.r2_score(test_y, pred_test_y))"
   ]
  },
  {
   "cell_type": "code",
   "execution_count": 144,
   "metadata": {},
   "outputs": [
    {
     "name": "stdout",
     "output_type": "stream",
     "text": [
      "23.567197419503415\n",
      "941.0178268488354\n",
      "19.022550827645432\n",
      "0.41255550993977175\n"
     ]
    }
   ],
   "source": [
    "\n",
    "import numpy as np\n",
    "import sklearn.linear_model as lm\n",
    "%matplotlib inline\n",
    "import matplotlib.pyplot as mp\n",
    "import sklearn.metrics as sm\n",
    "model = lm.LinearRegression()\n",
    "model.fit(x, y)\n",
    "pred_y = model.predict(x)\n",
    "\n",
    "# 评估回归模型的误差\n",
    "# 平均绝对值误差  1/m∑|预测输出-真实输出|\n",
    "print(sm.mean_absolute_error(y, pred_y))\n",
    "# 平均平方误差  sqrt(1/m∑(预测输出-真实输出)^2)\n",
    "print(sm.mean_squared_error(y, pred_y))\n",
    "# 中位数绝对值误差  median(|预测输出-真实输出|)\n",
    "print(sm.median_absolute_error(y, pred_y))\n",
    "# r2得分 (0,1]的一个分值,分数越高,误差越小\n",
    "print(sm.r2_score(y, pred_y))\n"
   ]
  },
  {
   "cell_type": "markdown",
   "metadata": {},
   "source": [
    "## 多层感知机"
   ]
  },
  {
   "cell_type": "code",
   "execution_count": 146,
   "metadata": {},
   "outputs": [
    {
     "name": "stdout",
     "output_type": "stream",
     "text": [
      "Epoch 1/5\n",
      "432/432 [==============================] - 0s 219us/step - loss: 4687.5027 - accuracy: 0.0000e+00\n",
      "Epoch 2/5\n",
      "432/432 [==============================] - 0s 22us/step - loss: 4686.7364 - accuracy: 0.0000e+00\n",
      "Epoch 3/5\n",
      "432/432 [==============================] - 0s 23us/step - loss: 4685.9386 - accuracy: 0.0000e+00\n",
      "Epoch 4/5\n",
      "432/432 [==============================] - 0s 32us/step - loss: 4685.1168 - accuracy: 0.0000e+00\n",
      "Epoch 5/5\n",
      "432/432 [==============================] - 0s 33us/step - loss: 4684.2918 - accuracy: 0.0000e+00\n",
      "432/432 [==============================] - 0s 93us/step\n",
      "\n",
      "accuracy: 0.00%\n"
     ]
    }
   ],
   "source": [
    "from keras.models import Sequential\n",
    "from keras.layers import Dense\n",
    "import numpy\n",
    "import pandas as pd\n",
    "numpy.random.seed(7)\n",
    "\n",
    "\n",
    "model=Sequential()\n",
    "model.add(Dense(8,input_dim=10,activation='relu'))\n",
    "model.add(Dense(5,activation='sigmoid'))\n",
    "model.add(Dense(1,activation='sigmoid'))\n",
    "model.compile(loss='mean_squared_error',optimizer='adam',metrics=['accuracy'])\n",
    "model.fit(x,y,epochs=5,batch_size=48)\n",
    "scores=model.evaluate(x,y)\n",
    "print(\"\\n%s: %.2f%%\"%(model.metrics_names[1],scores[1]*100))"
   ]
  }
 ],
 "metadata": {
  "kernelspec": {
   "display_name": "Python 3",
   "language": "python",
   "name": "python3"
  },
  "language_info": {
   "codemirror_mode": {
    "name": "ipython",
    "version": 3
   },
   "file_extension": ".py",
   "mimetype": "text/x-python",
   "name": "python",
   "nbconvert_exporter": "python",
   "pygments_lexer": "ipython3",
   "version": "3.7.1"
  }
 },
 "nbformat": 4,
 "nbformat_minor": 2
}
